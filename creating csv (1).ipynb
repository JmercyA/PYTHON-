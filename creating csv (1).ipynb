{
 "cells": [
  {
   "cell_type": "markdown",
   "id": "4e23f91f",
   "metadata": {},
   "source": [
    "| student1 | studeny2| student3|\n",
    "|----------|---------|---------|\n",
    "|71        |62       |78       |\n",
    "|65        |73       |67       |\n",
    "|78        |65       |82       |"
   ]
  },
  {
   "cell_type": "code",
   "execution_count": 1,
   "id": "d68275a9",
   "metadata": {},
   "outputs": [
    {
     "data": {
      "text/plain": [
       "[[71, 62, 78], [65, 78, 67], [78, 65, 82]]"
      ]
     },
     "execution_count": 1,
     "metadata": {},
     "output_type": "execute_result"
    }
   ],
   "source": [
    "scores= [\n",
    "    [71,62,78],\n",
    "    [65,78,67],\n",
    "    [78,65,82]\n",
    "]\n",
    "scores"
   ]
  },
  {
   "cell_type": "markdown",
   "id": "830dc6e8",
   "metadata": {},
   "source": [
    "### Serialization"
   ]
  },
  {
   "cell_type": "code",
   "execution_count": 2,
   "id": "b3c9bb70",
   "metadata": {},
   "outputs": [
    {
     "name": "stdout",
     "output_type": "stream",
     "text": [
      "71,62,78\n",
      "65,78,67\n",
      "78,65,82\n"
     ]
    }
   ],
   "source": [
    "# Initialize an empty string\n",
    "scores_csv = \"\"\n",
    "# Loop over all lists in the overall list\n",
    "for index, students_marks in enumerate(scores):\n",
    "     # Join together the values in the nested list usinga comma as a separator\n",
    "    csv_line = \",\".join(map(str, students_marks))\n",
    "    # Append the values to the overall string\n",
    "    scores_csv += csv_line\n",
    "     # Append a newline, unless this is the last row\n",
    "    if index < (len(scores) - 1):\n",
    "        scores_csv += \"\\n\"\n",
    "print(scores_csv)"
   ]
  },
  {
   "cell_type": "code",
   "execution_count": 3,
   "id": "49ea6953",
   "metadata": {},
   "outputs": [],
   "source": [
    "with open(\"scores.csv\", \"w\") as f:\n",
    "    f.write(scores_csv)"
   ]
  },
  {
   "cell_type": "code",
   "execution_count": 4,
   "id": "cd10998b",
   "metadata": {},
   "outputs": [
    {
     "name": "stdout",
     "output_type": "stream",
     "text": [
      "71,62,78\n",
      "65,78,67\n",
      "78,65,82\n"
     ]
    }
   ],
   "source": [
    "with open(\"scores.csv\") as f:\n",
    "    scores_csv = f.read()\n",
    "print(scores_csv)"
   ]
  },
  {
   "cell_type": "markdown",
   "id": "91c60ea6",
   "metadata": {},
   "source": [
    "### Deserialization"
   ]
  },
  {
   "cell_type": "code",
   "execution_count": 5,
   "id": "dbb21491",
   "metadata": {},
   "outputs": [
    {
     "name": "stdout",
     "output_type": "stream",
     "text": [
      "[[71, 62, 78], [65, 78, 67], [78, 65, 82]]\n"
     ]
    }
   ],
   "source": [
    "# Step 1: Read the CSV File\n",
    "with open(\"scores.csv\") as f:\n",
    "    csv_content = f.read()\n",
    "scores_list=[]\n",
    "\n",
    "# Split the content into rows\n",
    "rows = csv_content.strip().split(\"\\n\")\n",
    "\n",
    "# Convert each row into a list of integers\n",
    "scores_list = [list(map(int, row.split(\",\"))) for row in rows]\n",
    "\n",
    "# Step 3: Print the List of Lists\n",
    "print(scores_list)"
   ]
  },
  {
   "cell_type": "code",
   "execution_count": 6,
   "id": "5d7fac60",
   "metadata": {},
   "outputs": [
    {
     "data": {
      "text/plain": [
       "True"
      ]
     },
     "execution_count": 6,
     "metadata": {},
     "output_type": "execute_result"
    }
   ],
   "source": [
    "scores_list== scores"
   ]
  },
  {
   "cell_type": "markdown",
   "id": "9f3a61d8",
   "metadata": {},
   "source": [
    "### CSV Modules"
   ]
  },
  {
   "cell_type": "code",
   "execution_count": 7,
   "id": "63500c8c",
   "metadata": {},
   "outputs": [],
   "source": [
    "import csv"
   ]
  },
  {
   "cell_type": "code",
   "execution_count": 8,
   "id": "fa2b0b71",
   "metadata": {},
   "outputs": [
    {
     "data": {
      "text/plain": [
       "[[71.0, 62.0, 78.0], [65.0, 78.0, 67.0], [78.0, 65.0, 82.0]]"
      ]
     },
     "execution_count": 8,
     "metadata": {},
     "output_type": "execute_result"
    }
   ],
   "source": [
    "with open(\"scores.csv\") as f:\n",
    "  \n",
    "    reader = csv.reader(f, quoting=csv.QUOTE_NONNUMERIC)\n",
    "  \n",
    "    scores_with_csv_module = list(reader)\n",
    "    \n",
    "scores_with_csv_module"
   ]
  },
  {
   "cell_type": "code",
   "execution_count": 11,
   "id": "e85d3feb",
   "metadata": {},
   "outputs": [
    {
     "data": {
      "text/plain": [
       "[[71, 62, 78], [65, 78, 67], [78, 65, 82]]"
      ]
     },
     "execution_count": 11,
     "metadata": {},
     "output_type": "execute_result"
    }
   ],
   "source": [
    "scores_with_integers = []\n",
    "for row in scores_with_csv_module:\n",
    "    int_row = []\n",
    "    for value in row:\n",
    "        int_row.append(int(value))\n",
    "    scores_with_integers.append(int_row)\n",
    "scores_with_integers"
   ]
  },
  {
   "cell_type": "code",
   "execution_count": null,
   "id": "30978619",
   "metadata": {},
   "outputs": [],
   "source": [
    "import csv\n",
    "with open(\"Employee.csv\") as f:\n",
    "    reader = csv.reader(f)\n",
    "    # Printing only the header and first 5 rows of data\n",
    "    for i in range(6):\n",
    "        print(next(reader))"
   ]
  },
  {
   "cell_type": "code",
   "execution_count": null,
   "id": "5065416b",
   "metadata": {},
   "outputs": [],
   "source": [
    "with open(\"Employee.csv\") as f:\n",
    "    reader = csv.DictReader(f)\n",
    "    employee_data = list(reader)\n",
    "\n",
    "# Print the first 5 rows of data\n",
    "for index in range(5):\n",
    "    print(employee_data[index])"
   ]
  },
  {
   "cell_type": "code",
   "execution_count": null,
   "id": "662e93ae",
   "metadata": {},
   "outputs": [],
   "source": [
    "bachelors = []\n",
    "\n",
    "# Filter rows where Education is 'Bachelors'\n",
    "for row in employee_data:\n",
    "    if row[\"Education\"] == \"Bachelors\":\n",
    "        bachelors.append(row)\n",
    "\n",
    "# Print the number of Bachelors' records\n",
    "print(f\"\"\"Out of {len(employee_data)} total records, this dataset contains information about {len(bachelors)} records with a Bachelors' degree\"\"\")"
   ]
  },
  {
   "cell_type": "code",
   "execution_count": null,
   "id": "0d7ec770",
   "metadata": {},
   "outputs": [],
   "source": [
    "# Initialize an empty list to store Bachelors' Male data\n",
    "bachelors_male = []\n",
    "\n",
    "# Filter rows where Education is 'Bachelors' and Gender is 'Male'\n",
    "for row in employee_data:\n",
    "    if row['Education'] == 'Bachelors' and row['Gender'] == 'Male':\n",
    "        # Extract only the Education and Gender fields\n",
    "        bachelors_male.append({'Education': row['Education'], 'Gender': row['Gender']})"
   ]
  },
  {
   "cell_type": "code",
   "execution_count": null,
   "id": "26823e0f",
   "metadata": {},
   "outputs": [],
   "source": [
    "# Write the filtered data to a CSV file\n",
    "with open(\"bachelors_male.csv\", \"w\", newline='') as f:\n",
    "    writer = csv.DictWriter(f, fieldnames=[\"Education\", \"Gender\"])\n",
    "    writer.writeheader()\n",
    "    for row in bachelors_male:\n",
    "        writer.writerow(row)"
   ]
  },
  {
   "cell_type": "code",
   "execution_count": null,
   "id": "8a255d2c",
   "metadata": {},
   "outputs": [],
   "source": [
    "  ! cat bachelors_male.csv"
   ]
  },
  {
   "cell_type": "code",
   "execution_count": null,
   "id": "2f8ebd13",
   "metadata": {},
   "outputs": [],
   "source": [
    " "
   ]
  }
 ],
 "metadata": {
  "kernelspec": {
   "display_name": "Python 3 (ipykernel)",
   "language": "python",
   "name": "python3"
  },
  "language_info": {
   "codemirror_mode": {
    "name": "ipython",
    "version": 3
   },
   "file_extension": ".py",
   "mimetype": "text/x-python",
   "name": "python",
   "nbconvert_exporter": "python",
   "pygments_lexer": "ipython3",
   "version": "3.9.13"
  }
 },
 "nbformat": 4,
 "nbformat_minor": 5
}
