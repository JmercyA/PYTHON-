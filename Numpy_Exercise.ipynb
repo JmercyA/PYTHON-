{
  "nbformat": 4,
  "nbformat_minor": 0,
  "metadata": {
    "colab": {
      "provenance": [],
      "authorship_tag": "ABX9TyNquiSzwBgoaGK/ROcHGkXd",
      "include_colab_link": true
    },
    "kernelspec": {
      "name": "python3",
      "display_name": "Python 3"
    },
    "language_info": {
      "name": "python"
    }
  },
  "cells": [
    {
      "cell_type": "markdown",
      "metadata": {
        "id": "view-in-github",
        "colab_type": "text"
      },
      "source": [
        "<a href=\"https://colab.research.google.com/github/JmercyA/PYTHON-/blob/main/Numpy_Exercise.ipynb\" target=\"_parent\"><img src=\"https://colab.research.google.com/assets/colab-badge.svg\" alt=\"Open In Colab\"/></a>"
      ]
    },
    {
      "cell_type": "code",
      "execution_count": null,
      "metadata": {
        "id": "AqcaRJ2dRxmo"
      },
      "outputs": [],
      "source": [
        "import numpy as np"
      ]
    },
    {
      "cell_type": "code",
      "source": [
        "# Exercise 1:Create tup variable with (1, 2, 3) in Tuple format, then save it as a Numpy Array to\n",
        "#tup_arr variable\n",
        "tup = (1,2,3)\n",
        "tup_array=np.array(tup)\n",
        "tup_array"
      ],
      "metadata": {
        "colab": {
          "base_uri": "https://localhost:8080/"
        },
        "id": "HWjxeer0SFkQ",
        "outputId": "17f0c899-e0f9-4aed-f419-cab1d654ba38"
      },
      "execution_count": null,
      "outputs": [
        {
          "output_type": "execute_result",
          "data": {
            "text/plain": [
              "array([1, 2, 3])"
            ]
          },
          "metadata": {},
          "execution_count": 5
        }
      ]
    },
    {
      "cell_type": "code",
      "source": [
        "# Exercise 2: . Copy tup_arr to variable tup_arr_copy .(Hint: .copy() )\n",
        "tup_array_copy = tup_array.copy()\n",
        "tup_array_copy"
      ],
      "metadata": {
        "colab": {
          "base_uri": "https://localhost:8080/"
        },
        "id": "K4PTLZoHU_lm",
        "outputId": "e33f956a-9808-4fae-d483-356d925c183f"
      },
      "execution_count": 7,
      "outputs": [
        {
          "output_type": "execute_result",
          "data": {
            "text/plain": [
              "array([1, 2, 3])"
            ]
          },
          "metadata": {},
          "execution_count": 7
        }
      ]
    },
    {
      "cell_type": "code",
      "source": [
        "#Change the first element of tup_arr to 0, then output tup_arr and tup_arr_copy to check the first element.\n",
        "tup_array[0] = 0\n",
        "tup_array\n"
      ],
      "metadata": {
        "colab": {
          "base_uri": "https://localhost:8080/"
        },
        "id": "FX0gBk4nWC9T",
        "outputId": "c44d483d-180f-47c8-f488-ed0381df3cd7"
      },
      "execution_count": 9,
      "outputs": [
        {
          "output_type": "execute_result",
          "data": {
            "text/plain": [
              "array([0, 2, 3])"
            ]
          },
          "metadata": {},
          "execution_count": 9
        }
      ]
    },
    {
      "cell_type": "code",
      "source": [
        "#Creating an array of a single value\n",
        "#np.zeros() - a numpy array with zeros.\n",
        "#np.ones() - a numpy array with ones.\n",
        "#np.full() - a numpy array with a given fill_value."
      ],
      "metadata": {
        "id": "-USIKXC4Wogq"
      },
      "execution_count": null,
      "outputs": []
    },
    {
      "cell_type": "code",
      "source": [
        "# Creating a matrix of 3 rows and 2 columns of 0\n",
        "A = np.zeros(shape=(3,2), dtype=np.float64)\n",
        "A"
      ],
      "metadata": {
        "colab": {
          "base_uri": "https://localhost:8080/"
        },
        "id": "nQjK0AV-XLAg",
        "outputId": "24fda645-c63f-4f91-d6a0-80ccbfb46bfd"
      },
      "execution_count": 18,
      "outputs": [
        {
          "output_type": "execute_result",
          "data": {
            "text/plain": [
              "array([[0., 0.],\n",
              "       [0., 0.],\n",
              "       [0., 0.]])"
            ]
          },
          "metadata": {},
          "execution_count": 18
        }
      ]
    },
    {
      "cell_type": "code",
      "source": [
        "# Creating a matrix of 3 rows and 2 columns of 1\n",
        "A = np.ones(shape=(3,2), dtype=np.float64)\n",
        "A"
      ],
      "metadata": {
        "colab": {
          "base_uri": "https://localhost:8080/"
        },
        "id": "sjggnGCwX3jC",
        "outputId": "b64748a5-906a-4424-b241-3de19d325fc3"
      },
      "execution_count": 15,
      "outputs": [
        {
          "output_type": "execute_result",
          "data": {
            "text/plain": [
              "array([[1., 1.],\n",
              "       [1., 1.],\n",
              "       [1., 1.]])"
            ]
          },
          "metadata": {},
          "execution_count": 15
        }
      ]
    },
    {
      "cell_type": "code",
      "source": [
        "# Creating a matrix of 3 rows and 2 columns of 3 in a floating-point\n",
        "A = np.full(shape=(3,2), fill_value=5., dtype=np.float64)\n",
        "A"
      ],
      "metadata": {
        "colab": {
          "base_uri": "https://localhost:8080/"
        },
        "id": "CNwgRELjeWKM",
        "outputId": "43a08fc3-7ae9-4a12-b07c-6d492017a23a"
      },
      "execution_count": 22,
      "outputs": [
        {
          "output_type": "execute_result",
          "data": {
            "text/plain": [
              "array([[5., 5.],\n",
              "       [5., 5.],\n",
              "       [5., 5.]])"
            ]
          },
          "metadata": {},
          "execution_count": 22
        }
      ]
    },
    {
      "cell_type": "code",
      "source": [
        "#Creating an array with shape and type as a given array\n",
        "#np.zeros_like()\n",
        "#np.ones_like()\n",
        "#np.full_like()"
      ],
      "metadata": {
        "id": "Qspafu5Oh1H-"
      },
      "execution_count": null,
      "outputs": []
    },
    {
      "cell_type": "code",
      "source": [
        "A = np.array([1,2,3,4,5])\n",
        "A"
      ],
      "metadata": {
        "colab": {
          "base_uri": "https://localhost:8080/"
        },
        "id": "h1NnqTAQilEU",
        "outputId": "111f4aca-5f15-4542-fa7b-84c4a608f661"
      },
      "execution_count": 23,
      "outputs": [
        {
          "output_type": "execute_result",
          "data": {
            "text/plain": [
              "array([1, 2, 3, 4, 5])"
            ]
          },
          "metadata": {},
          "execution_count": 23
        }
      ]
    },
    {
      "cell_type": "code",
      "source": [
        "# Creating an array of zeros with the same shape and type as ‘A’\n",
        "np_zero = np.zeros_like(A, dtype=np.int64)\n",
        "np_zero"
      ],
      "metadata": {
        "colab": {
          "base_uri": "https://localhost:8080/"
        },
        "id": "UrKYXj5EhilG",
        "outputId": "80f4070c-77c1-45d6-c816-8a3b44cb76d8"
      },
      "execution_count": 27,
      "outputs": [
        {
          "output_type": "execute_result",
          "data": {
            "text/plain": [
              "array([0, 0, 0, 0, 0])"
            ]
          },
          "metadata": {},
          "execution_count": 27
        }
      ]
    },
    {
      "cell_type": "code",
      "source": [
        "np.ones = np.ones_like(np_zero , dtype=np.int64)\n",
        "np.ones"
      ],
      "metadata": {
        "colab": {
          "base_uri": "https://localhost:8080/"
        },
        "id": "wSfHvYImjQJy",
        "outputId": "ea5e7a3c-ba07-404f-ad10-9dd4922fc5ad"
      },
      "execution_count": 29,
      "outputs": [
        {
          "output_type": "execute_result",
          "data": {
            "text/plain": [
              "array([1, 1, 1, 1, 1])"
            ]
          },
          "metadata": {},
          "execution_count": 29
        }
      ]
    },
    {
      "cell_type": "code",
      "source": [
        "# Creating an array of thirteens(13) with the same shape and type as ‘A’\n",
        "np_full = np.full_like(A, fill_value=13, dtype=np.int64)\n",
        "np_full"
      ],
      "metadata": {
        "colab": {
          "base_uri": "https://localhost:8080/"
        },
        "id": "HYGnMDowj01F",
        "outputId": "54d01442-aa16-4f67-a8cf-98c9195c1e5d"
      },
      "execution_count": 32,
      "outputs": [
        {
          "output_type": "execute_result",
          "data": {
            "text/plain": [
              "array([13, 13, 13, 13, 13])"
            ]
          },
          "metadata": {},
          "execution_count": 32
        }
      ]
    },
    {
      "cell_type": "code",
      "source": [
        "#Creating an array of values over a specified interval With numpy, you can create an array with numbers at a specified interval.\n",
        "#For instance, You can create an array consisting of consecutive values from 1 to 10 at regular intervals,using the following numpy functions.\n",
        "#np.linspace() - to create an array consisting of evenly spaced numbers over a specified interval.\n",
        "#np.arange() - to create an array consisting of evenly spaced numbers within a given interval.\n",
        "\n",
        "# Generating 19 values from 1(inclusive) to 10(exclusive) at equal intervals\n",
        "np.linspace(start=1,stop=10, num=19)"
      ],
      "metadata": {
        "colab": {
          "base_uri": "https://localhost:8080/"
        },
        "id": "O7l9paetkseC",
        "outputId": "934b0aa9-dd7d-48fb-cbe0-51926540ebc4"
      },
      "execution_count": 35,
      "outputs": [
        {
          "output_type": "execute_result",
          "data": {
            "text/plain": [
              "array([ 1. ,  1.5,  2. ,  2.5,  3. ,  3.5,  4. ,  4.5,  5. ,  5.5,  6. ,\n",
              "        6.5,  7. ,  7.5,  8. ,  8.5,  9. ,  9.5, 10. ])"
            ]
          },
          "metadata": {},
          "execution_count": 35
        }
      ]
    },
    {
      "cell_type": "code",
      "source": [
        "# Generating values from 1(inclusive) to 10(exclusive) in every 0.5\n",
        "np.arange(1,10,0.5)"
      ],
      "metadata": {
        "colab": {
          "base_uri": "https://localhost:8080/"
        },
        "id": "7e8pdszalzYK",
        "outputId": "58e71cfa-2f3b-489e-d81b-2099a0defe79"
      },
      "execution_count": 41,
      "outputs": [
        {
          "output_type": "execute_result",
          "data": {
            "text/plain": [
              "array([1. , 1.5, 2. , 2.5, 3. , 3.5, 4. , 4.5, 5. , 5.5, 6. , 6.5, 7. ,\n",
              "       7.5, 8. , 8.5, 9. , 9.5])"
            ]
          },
          "metadata": {},
          "execution_count": 41
        }
      ]
    },
    {
      "cell_type": "code",
      "source": [
        "#Create a Numpy Array that has all elements as 3, and with 2 rows and 4 columns. Assign it to variable arr6"
      ],
      "metadata": {
        "id": "X9PYqWTRnNSa"
      },
      "execution_count": null,
      "outputs": []
    },
    {
      "cell_type": "code",
      "source": [
        "arr6 = np.full(shape=(2,4), fill_value=3., dtype=np.float64)\n",
        "arr6"
      ],
      "metadata": {
        "colab": {
          "base_uri": "https://localhost:8080/"
        },
        "id": "743Sy6V6nbNt",
        "outputId": "761edd15-8b27-46e4-f526-c32c02389d9e"
      },
      "execution_count": 49,
      "outputs": [
        {
          "output_type": "execute_result",
          "data": {
            "text/plain": [
              "array([[3., 3., 3., 3.],\n",
              "       [3., 3., 3., 3.]])"
            ]
          },
          "metadata": {},
          "execution_count": 49
        }
      ]
    },
    {
      "cell_type": "code",
      "source": [
        "# Create a Numpy Array that has same shape as arr6 and all elements as 0. Assign it to variable arr7\n",
        "arr7 = np.full_like(arr6,fill_value = 0, dtype = np.int64)\n",
        "arr7\n"
      ],
      "metadata": {
        "colab": {
          "base_uri": "https://localhost:8080/"
        },
        "id": "saPVuQRTr3yw",
        "outputId": "aea19a28-90ce-4d56-fab3-994f9f5f4d19"
      },
      "execution_count": 52,
      "outputs": [
        {
          "output_type": "execute_result",
          "data": {
            "text/plain": [
              "array([[0, 0, 0, 0],\n",
              "       [0, 0, 0, 0]])"
            ]
          },
          "metadata": {},
          "execution_count": 52
        }
      ]
    },
    {
      "cell_type": "code",
      "source": [
        "#Create a Numpy Array that has 10 elements, which spans from 1 to 19 in equal intervals.Assign it to variable arr8\n",
        "arr8 =np.linspace (1,19,10)\n",
        "arr8"
      ],
      "metadata": {
        "colab": {
          "base_uri": "https://localhost:8080/"
        },
        "id": "gMn2mzOftf9E",
        "outputId": "1414c4c3-b649-4d03-982b-e34d0a7edf6e"
      },
      "execution_count": 58,
      "outputs": [
        {
          "output_type": "execute_result",
          "data": {
            "text/plain": [
              "array([ 1.,  3.,  5.,  7.,  9., 11., 13., 15., 17., 19.])"
            ]
          },
          "metadata": {},
          "execution_count": 58
        }
      ]
    },
    {
      "cell_type": "code",
      "source": [
        "#Create a Numpy Array that spans from 1 to 19, increasing by 4. Assign it to variable arr9 ."
      ],
      "metadata": {
        "id": "l5djQtzQvsRR"
      },
      "execution_count": null,
      "outputs": []
    },
    {
      "cell_type": "code",
      "source": [
        "arr9 = np.arange (1,19,4)\n",
        "arr9"
      ],
      "metadata": {
        "colab": {
          "base_uri": "https://localhost:8080/"
        },
        "id": "8SpqF7QVtnBV",
        "outputId": "d96c3cb2-583a-4b31-c2d1-a0539c210554"
      },
      "execution_count": 60,
      "outputs": [
        {
          "output_type": "execute_result",
          "data": {
            "text/plain": [
              "array([ 1,  5,  9, 13, 17])"
            ]
          },
          "metadata": {},
          "execution_count": 60
        }
      ]
    },
    {
      "cell_type": "code",
      "source": [
        "scores = np.array([\n",
        " [80, 92, 70, 65, 92], # Report card of student 0\n",
        " [91, 75, 90, 68, 85], # Report card of student 1\n",
        " [86, 76, 42, 72, 88], # Report card of student 2\n",
        " [77, 92, 52, 60, 80], # Report card of student 3\n",
        " [75, 85, 85, 92, 95], # Report card of student 4\n",
        " [96, 90, 95, 81, 72] # Report card of student 5\n",
        "])\n",
        "scores"
      ],
      "metadata": {
        "colab": {
          "base_uri": "https://localhost:8080/"
        },
        "id": "D1a7rvxU2VJC",
        "outputId": "a9f1790e-c6a4-4753-894d-e2def6c24f47"
      },
      "execution_count": 61,
      "outputs": [
        {
          "output_type": "execute_result",
          "data": {
            "text/plain": [
              "array([[80, 92, 70, 65, 92],\n",
              "       [91, 75, 90, 68, 85],\n",
              "       [86, 76, 42, 72, 88],\n",
              "       [77, 92, 52, 60, 80],\n",
              "       [75, 85, 85, 92, 95],\n",
              "       [96, 90, 95, 81, 72]])"
            ]
          },
          "metadata": {},
          "execution_count": 61
        }
      ]
    },
    {
      "cell_type": "code",
      "source": [
        "scores[2, 0]"
      ],
      "metadata": {
        "colab": {
          "base_uri": "https://localhost:8080/"
        },
        "id": "1CzWmhMW5Vd-",
        "outputId": "58895fc1-118c-46f2-d62d-883047dfc8e4"
      },
      "execution_count": 62,
      "outputs": [
        {
          "output_type": "execute_result",
          "data": {
            "text/plain": [
              "86"
            ]
          },
          "metadata": {},
          "execution_count": 62
        }
      ]
    },
    {
      "cell_type": "code",
      "source": [
        "scores[4, 4]"
      ],
      "metadata": {
        "colab": {
          "base_uri": "https://localhost:8080/"
        },
        "id": "jRzyqxD45bX9",
        "outputId": "4e4f4d21-51c0-47e4-e0a8-a8e58b4d19cb"
      },
      "execution_count": 63,
      "outputs": [
        {
          "output_type": "execute_result",
          "data": {
            "text/plain": [
              "95"
            ]
          },
          "metadata": {},
          "execution_count": 63
        }
      ]
    },
    {
      "cell_type": "code",
      "source": [
        "#Year Sea Air\n",
        "#Year1 4,290 6,070\n",
        "#Year2 4,425 6,278\n",
        "#Year3 4,577 6,350\n",
        "#Year4 4,617 8,295\n",
        "#Year5 4,491 10,780\n",
        "#Store the above table in Numpy Array format, to variable cargo_n_array . (Store only the integer values.)"
      ],
      "metadata": {
        "id": "i2XAymM55u3r"
      },
      "execution_count": null,
      "outputs": []
    },
    {
      "cell_type": "code",
      "source": [
        "cargo_n_array1 ={'4290': 6070 , \"4425\" : 6278 , \"4577\" : 6350 , \"4617\" : 8295 , \"4491\" : 10780}\n",
        "cargo_n_array1"
      ],
      "metadata": {
        "colab": {
          "base_uri": "https://localhost:8080/"
        },
        "id": "LoROK0B46RBq",
        "outputId": "f919f512-6810-491d-a218-c9845d36efc4"
      },
      "execution_count": 66,
      "outputs": [
        {
          "output_type": "execute_result",
          "data": {
            "text/plain": [
              "{'4290': 6070, '4425': 6278, '4577': 6350, '4617': 8295, '4491': 10780}"
            ]
          },
          "metadata": {},
          "execution_count": 66
        }
      ]
    },
    {
      "cell_type": "code",
      "source": [
        "cargo_n_array = np.array([\n",
        " [4290, 6070],\n",
        " [4425, 6278],\n",
        " [4577, 6350],\n",
        " [4617, 8295],\n",
        " [4491, 10780]\n",
        "])\n",
        "cargo_n_array"
      ],
      "metadata": {
        "colab": {
          "base_uri": "https://localhost:8080/"
        },
        "id": "Tc1y0RAW63F4",
        "outputId": "c4a8b6c6-cb80-4253-93f2-c3b424f0f83c"
      },
      "execution_count": 78,
      "outputs": [
        {
          "output_type": "execute_result",
          "data": {
            "text/plain": [
              "array([[ 4290,  6070],\n",
              "       [ 4425,  6278],\n",
              "       [ 4577,  6350],\n",
              "       [ 4617,  8295],\n",
              "       [ 4491, 10780]])"
            ]
          },
          "metadata": {},
          "execution_count": 78
        }
      ]
    },
    {
      "cell_type": "code",
      "source": [
        "#Retrieve Year1's number of air import/export from cargo_n_array\n",
        "cargo_n_array[0, 1]"
      ],
      "metadata": {
        "colab": {
          "base_uri": "https://localhost:8080/"
        },
        "id": "TxM5-QFp8Uxa",
        "outputId": "910c5073-4499-4d47-885a-6bd208b37b55"
      },
      "execution_count": 79,
      "outputs": [
        {
          "output_type": "execute_result",
          "data": {
            "text/plain": [
              "6070"
            ]
          },
          "metadata": {},
          "execution_count": 79
        }
      ]
    },
    {
      "cell_type": "code",
      "source": [
        "# row=1, col=all\n",
        "scores[1,:]"
      ],
      "metadata": {
        "colab": {
          "base_uri": "https://localhost:8080/"
        },
        "id": "xCuOXtnJL4AN",
        "outputId": "0a996abb-7256-46a5-cf11-adcc38ac1f64"
      },
      "execution_count": 80,
      "outputs": [
        {
          "output_type": "execute_result",
          "data": {
            "text/plain": [
              "array([91, 75, 90, 68, 85])"
            ]
          },
          "metadata": {},
          "execution_count": 80
        }
      ]
    },
    {
      "cell_type": "code",
      "source": [
        "# row=3, col=all\n",
        "scores[3]"
      ],
      "metadata": {
        "colab": {
          "base_uri": "https://localhost:8080/"
        },
        "id": "I7sgbw-3L7xr",
        "outputId": "c83ba0c5-a921-40dc-a198-43d7329b692e"
      },
      "execution_count": 81,
      "outputs": [
        {
          "output_type": "execute_result",
          "data": {
            "text/plain": [
              "array([77, 92, 52, 60, 80])"
            ]
          },
          "metadata": {},
          "execution_count": 81
        }
      ]
    },
    {
      "cell_type": "code",
      "source": [
        "#Scores for student 1, 2, 3 and 4 in all subjects\n",
        "scores[1:5]"
      ],
      "metadata": {
        "colab": {
          "base_uri": "https://localhost:8080/"
        },
        "id": "bVumd8B4QCp8",
        "outputId": "29e19bb7-252e-4396-a2a7-aebf392a826a"
      },
      "execution_count": 82,
      "outputs": [
        {
          "output_type": "execute_result",
          "data": {
            "text/plain": [
              "array([[91, 75, 90, 68, 85],\n",
              "       [86, 76, 42, 72, 88],\n",
              "       [77, 92, 52, 60, 80],\n",
              "       [75, 85, 85, 92, 95]])"
            ]
          },
          "metadata": {},
          "execution_count": 82
        }
      ]
    },
    {
      "cell_type": "code",
      "source": [
        "#Scores for student 2, 3, 4 and 5 in all subjects\n",
        "scores[2:6]"
      ],
      "metadata": {
        "colab": {
          "base_uri": "https://localhost:8080/"
        },
        "id": "I5Uvp-JUQdvP",
        "outputId": "c85207e8-a572-469f-be1b-ca38061deee2"
      },
      "execution_count": 83,
      "outputs": [
        {
          "output_type": "execute_result",
          "data": {
            "text/plain": [
              "array([[86, 76, 42, 72, 88],\n",
              "       [77, 92, 52, 60, 80],\n",
              "       [75, 85, 85, 92, 95],\n",
              "       [96, 90, 95, 81, 72]])"
            ]
          },
          "metadata": {},
          "execution_count": 83
        }
      ]
    },
    {
      "cell_type": "code",
      "source": [
        "#Scores of all even-numbered students"
      ],
      "metadata": {
        "id": "UzcMSHehRBKi"
      },
      "execution_count": null,
      "outputs": []
    },
    {
      "cell_type": "code",
      "source": [
        "scores[0:6:2]"
      ],
      "metadata": {
        "colab": {
          "base_uri": "https://localhost:8080/"
        },
        "id": "Y5oAjA_qRHaD",
        "outputId": "d3bc5477-fc8b-4242-f7bb-29d337d36d94"
      },
      "execution_count": 85,
      "outputs": [
        {
          "output_type": "execute_result",
          "data": {
            "text/plain": [
              "array([[80, 92, 70, 65, 92],\n",
              "       [86, 76, 42, 72, 88],\n",
              "       [75, 85, 85, 92, 95]])"
            ]
          },
          "metadata": {},
          "execution_count": 85
        }
      ]
    },
    {
      "cell_type": "code",
      "source": [
        "#Scores of all odd-numbered students\n",
        "scores[1:6:2]"
      ],
      "metadata": {
        "colab": {
          "base_uri": "https://localhost:8080/"
        },
        "id": "T8GiAgSASb25",
        "outputId": "699f9069-7f04-4e21-ec2a-bc8d7cedd20a"
      },
      "execution_count": 86,
      "outputs": [
        {
          "output_type": "execute_result",
          "data": {
            "text/plain": [
              "array([[91, 75, 90, 68, 85],\n",
              "       [77, 92, 52, 60, 80],\n",
              "       [96, 90, 95, 81, 72]])"
            ]
          },
          "metadata": {},
          "execution_count": 86
        }
      ]
    },
    {
      "cell_type": "code",
      "source": [
        "#Selecting elements of specific columns (axis=1) if you want to specify only the columns while selecting all rows, use [:, column_index] for a singlecolumn selection\n",
        "# or [:, start:stop:step] for the selection of a specific range of columns.\n",
        "StudentID History English Math Social Studies Science\n",
        "0 80 92 70 65 92\n",
        "1 91 75 90 68 85\n",
        "2 86 76 42 72 88\n",
        "3 77 92 52 60 80\n",
        "4 75 85 85 92 95\n",
        "5 96 90 95 81 72"
      ],
      "metadata": {
        "id": "WdZ4jHOLTMrS"
      },
      "execution_count": null,
      "outputs": []
    },
    {
      "cell_type": "code",
      "source": [
        "scores = np.array([\n",
        " [80, 92, 70, 65, 92], # Report card of student 0\n",
        " [91, 75, 90, 68, 85], # Report card of student 1\n",
        " [86, 76, 42, 72, 88], # Report card of student 2\n",
        " [77, 92, 52, 60, 80], # Report card of student 3\n",
        " [75, 85, 85, 92, 95], # Report card of student 4\n",
        " [96, 90, 95, 81, 72] # Report card of student 5\n",
        "])\n",
        "scores"
      ],
      "metadata": {
        "colab": {
          "base_uri": "https://localhost:8080/"
        },
        "id": "21xfTHR3UeDj",
        "outputId": "3f42e2e7-c9f3-4be8-c40b-e5fdd7bcef04"
      },
      "execution_count": 87,
      "outputs": [
        {
          "output_type": "execute_result",
          "data": {
            "text/plain": [
              "array([[80, 92, 70, 65, 92],\n",
              "       [91, 75, 90, 68, 85],\n",
              "       [86, 76, 42, 72, 88],\n",
              "       [77, 92, 52, 60, 80],\n",
              "       [75, 85, 85, 92, 95],\n",
              "       [96, 90, 95, 81, 72]])"
            ]
          },
          "metadata": {},
          "execution_count": 87
        }
      ]
    },
    {
      "cell_type": "code",
      "source": [
        "#Scores in History for all students\n",
        "scores[ :,0]"
      ],
      "metadata": {
        "colab": {
          "base_uri": "https://localhost:8080/"
        },
        "id": "dmottUK9XvFn",
        "outputId": "94f0490c-c50c-4e3b-b08a-be77d155d287"
      },
      "execution_count": 96,
      "outputs": [
        {
          "output_type": "execute_result",
          "data": {
            "text/plain": [
              "array([80, 91, 86, 77, 75, 96])"
            ]
          },
          "metadata": {},
          "execution_count": 96
        }
      ]
    },
    {
      "cell_type": "code",
      "source": [
        "#Scores in Math for all students\n",
        "scores[ :,2]"
      ],
      "metadata": {
        "colab": {
          "base_uri": "https://localhost:8080/"
        },
        "id": "jbPUi8q-X8nw",
        "outputId": "f0c79115-c941-4c6f-e322-46345d40cd31"
      },
      "execution_count": 95,
      "outputs": [
        {
          "output_type": "execute_result",
          "data": {
            "text/plain": [
              "array([70, 90, 42, 52, 85, 95])"
            ]
          },
          "metadata": {},
          "execution_count": 95
        }
      ]
    },
    {
      "cell_type": "code",
      "source": [
        "#Scores in History, English and Math for all students\n",
        "scores[ :,0:3]"
      ],
      "metadata": {
        "colab": {
          "base_uri": "https://localhost:8080/"
        },
        "id": "ULGienOLY2-v",
        "outputId": "7d987dce-e7a9-449f-ae43-62148d162205"
      },
      "execution_count": 97,
      "outputs": [
        {
          "output_type": "execute_result",
          "data": {
            "text/plain": [
              "array([[80, 92, 70],\n",
              "       [91, 75, 90],\n",
              "       [86, 76, 42],\n",
              "       [77, 92, 52],\n",
              "       [75, 85, 85],\n",
              "       [96, 90, 95]])"
            ]
          },
          "metadata": {},
          "execution_count": 97
        }
      ]
    },
    {
      "cell_type": "code",
      "source": [
        "midterm_scores = np.array([\n",
        " [80, 92, 70, 65, 92],\n",
        " [91, 75, 90, 68 ,85],\n",
        " [86, 76, 42, 72, 88],\n",
        " [77, 92, 52, 60, 80],\n",
        " [75, 85, 85, 92, 95],\n",
        " [96, 90, 95, 81, 72]\n",
        "])\n",
        "final_scores = np.array([\n",
        " [85, 95, 90, 66, 93],\n",
        " [93, 70, 80, 60, 81],\n",
        " [89, 78, 55, 75, 80],\n",
        " [80, 94, 59, 72, 90],\n",
        " [70, 82, 81, 95, 72],\n",
        " [90, 76, 93, 82, 89]\n",
        "])\n",
        "final_scores.shape"
      ],
      "metadata": {
        "colab": {
          "base_uri": "https://localhost:8080/"
        },
        "id": "pisE-laLc5SP",
        "outputId": "f798a725-9a23-4717-e1cb-63438d5e85a1"
      },
      "execution_count": 98,
      "outputs": [
        {
          "output_type": "execute_result",
          "data": {
            "text/plain": [
              "(6, 5)"
            ]
          },
          "metadata": {},
          "execution_count": 98
        }
      ]
    },
    {
      "cell_type": "markdown",
      "source": [
        "#1. Numpy methods for aggregate operations"
      ],
      "metadata": {
        "id": "YNPrXr5VdyZ4"
      }
    },
    {
      "cell_type": "code",
      "source": [
        "#1.sum() calculates the total sum of an array."
      ],
      "metadata": {
        "id": "zb0Ra7WzeOJp"
      },
      "execution_count": null,
      "outputs": []
    },
    {
      "cell_type": "code",
      "source": [
        "#Total score in the midterm exam\n",
        "midterm_scores.sum()"
      ],
      "metadata": {
        "colab": {
          "base_uri": "https://localhost:8080/"
        },
        "id": "t6RLUyJJeYLR",
        "outputId": "bafa6409-0f48-4057-e9a1-25ad5e51678d"
      },
      "execution_count": 99,
      "outputs": [
        {
          "output_type": "execute_result",
          "data": {
            "text/plain": [
              "2399"
            ]
          },
          "metadata": {},
          "execution_count": 99
        }
      ]
    },
    {
      "cell_type": "code",
      "source": [
        "#Total score in the final exam\n",
        "final_scores.sum()"
      ],
      "metadata": {
        "colab": {
          "base_uri": "https://localhost:8080/"
        },
        "id": "Hde8_CCAeISE",
        "outputId": "0db951b9-dc49-488a-c834-70123c3b2d66"
      },
      "execution_count": 100,
      "outputs": [
        {
          "output_type": "execute_result",
          "data": {
            "text/plain": [
              "2415"
            ]
          },
          "metadata": {},
          "execution_count": 100
        }
      ]
    },
    {
      "cell_type": "code",
      "source": [
        "#Total score of student 0\n",
        "midterm_scores[0,:].sum()"
      ],
      "metadata": {
        "colab": {
          "base_uri": "https://localhost:8080/"
        },
        "id": "4INbIisoe1rt",
        "outputId": "43486f0e-2876-4ad9-ef53-24ee85c51706"
      },
      "execution_count": 101,
      "outputs": [
        {
          "output_type": "execute_result",
          "data": {
            "text/plain": [
              "399"
            ]
          },
          "metadata": {},
          "execution_count": 101
        }
      ]
    },
    {
      "cell_type": "code",
      "source": [
        "# 2.np.mean()\n",
        "# .mean() calculates the average value of an array."
      ],
      "metadata": {
        "id": "SLyYNeHHfR7S"
      },
      "execution_count": null,
      "outputs": []
    },
    {
      "cell_type": "code",
      "source": [
        "#Average score in the midterm\n",
        "midterm_score_mean = midterm_scores.mean()\n",
        "midterm_score_mean.round(2)"
      ],
      "metadata": {
        "colab": {
          "base_uri": "https://localhost:8080/"
        },
        "id": "HHukhuEdjV1l",
        "outputId": "8112a6ab-f251-433a-d50b-28a58c627cae"
      },
      "execution_count": 104,
      "outputs": [
        {
          "output_type": "execute_result",
          "data": {
            "text/plain": [
              "79.97"
            ]
          },
          "metadata": {},
          "execution_count": 104
        }
      ]
    },
    {
      "cell_type": "code",
      "source": [
        "#Average score of student 4 in the midterm\n",
        "midterm_scores[4,:].mean()"
      ],
      "metadata": {
        "colab": {
          "base_uri": "https://localhost:8080/"
        },
        "id": "o9O1W79mj37S",
        "outputId": "cdf70b65-28f0-4c81-e503-86baea3d9cb8"
      },
      "execution_count": 105,
      "outputs": [
        {
          "output_type": "execute_result",
          "data": {
            "text/plain": [
              "86.4"
            ]
          },
          "metadata": {},
          "execution_count": 105
        }
      ]
    },
    {
      "cell_type": "code",
      "source": [
        "#Top score in the final exam\n",
        "final_scores.max()"
      ],
      "metadata": {
        "colab": {
          "base_uri": "https://localhost:8080/"
        },
        "id": "0_84ny6PnFd1",
        "outputId": "3f62e74e-1e9c-432f-a264-045efe470b3a"
      },
      "execution_count": 107,
      "outputs": [
        {
          "output_type": "execute_result",
          "data": {
            "text/plain": [
              "95"
            ]
          },
          "metadata": {},
          "execution_count": 107
        }
      ]
    },
    {
      "cell_type": "code",
      "source": [
        "#Highest score of student 2 in the final exam\n",
        "final_scores[2,:].max()"
      ],
      "metadata": {
        "colab": {
          "base_uri": "https://localhost:8080/"
        },
        "id": "8-vyVSJ4nwVR",
        "outputId": "b3124e74-a369-4630-a5bc-561a9f345802"
      },
      "execution_count": 109,
      "outputs": [
        {
          "output_type": "execute_result",
          "data": {
            "text/plain": [
              "89"
            ]
          },
          "metadata": {},
          "execution_count": 109
        }
      ]
    },
    {
      "cell_type": "code",
      "source": [
        "#np.stack()\n",
        "#np.stack() joins a sequence of arrays along a new axis. Note that the stacked array has one more dimension than before."
      ],
      "metadata": {
        "id": "6_6wVItsobVq"
      },
      "execution_count": null,
      "outputs": []
    },
    {
      "cell_type": "code",
      "source": [
        "#Joining midterm and final exam scores into a new array\n",
        "scores = np.stack([midterm_scores,final_scores])\n",
        "print(scores.shape)\n",
        "scores"
      ],
      "metadata": {
        "colab": {
          "base_uri": "https://localhost:8080/"
        },
        "id": "otYJOCLCpggy",
        "outputId": "35918b73-3951-4d03-ade6-3a1f4b2f913b"
      },
      "execution_count": 110,
      "outputs": [
        {
          "output_type": "stream",
          "name": "stdout",
          "text": [
            "(2, 6, 5)\n"
          ]
        },
        {
          "output_type": "execute_result",
          "data": {
            "text/plain": [
              "array([[[80, 92, 70, 65, 92],\n",
              "        [91, 75, 90, 68, 85],\n",
              "        [86, 76, 42, 72, 88],\n",
              "        [77, 92, 52, 60, 80],\n",
              "        [75, 85, 85, 92, 95],\n",
              "        [96, 90, 95, 81, 72]],\n",
              "\n",
              "       [[85, 95, 90, 66, 93],\n",
              "        [93, 70, 80, 60, 81],\n",
              "        [89, 78, 55, 75, 80],\n",
              "        [80, 94, 59, 72, 90],\n",
              "        [70, 82, 81, 95, 72],\n",
              "        [90, 76, 93, 82, 89]]])"
            ]
          },
          "metadata": {},
          "execution_count": 110
        }
      ]
    },
    {
      "cell_type": "code",
      "source": [
        "#np.all()\n",
        "#.all() tests whether or not all array elements alongside the given axis are true It returns 'True' if all elements are true, or 'False' otherwise.\n",
        "#Checking who scored 90 or higher in both English exams\n",
        "np.all(scores[:,:,1]>=90, axis=0)"
      ],
      "metadata": {
        "colab": {
          "base_uri": "https://localhost:8080/"
        },
        "id": "0p-59s_DqGcP",
        "outputId": "0367486b-7295-4324-9f49-daafa3504013"
      },
      "execution_count": 111,
      "outputs": [
        {
          "output_type": "execute_result",
          "data": {
            "text/plain": [
              "array([ True, False, False,  True, False, False])"
            ]
          },
          "metadata": {},
          "execution_count": 111
        }
      ]
    },
    {
      "cell_type": "code",
      "source": [
        "#Students with a score of 50 or less in both Math exams"
      ],
      "metadata": {
        "id": "hQfCy8dRs4st"
      },
      "execution_count": null,
      "outputs": []
    },
    {
      "cell_type": "code",
      "source": [
        "#np.any()\n",
        "#np.any returns True if any array element on the given axis is true, and False otherwise.\n",
        "#When np.any() is used on two arrays, it proceeds an element-wise comparison of two arrays returning True if there is any matching pair.\n",
        "#Students with a score of 50 or less in both Math exams\n",
        "np.any(scores[:,:,2]<=50, axis=0)"
      ],
      "metadata": {
        "colab": {
          "base_uri": "https://localhost:8080/"
        },
        "id": "UTppmZy8rdcu",
        "outputId": "73633077-583c-49b1-d619-0ae8cd98170a"
      },
      "execution_count": 112,
      "outputs": [
        {
          "output_type": "execute_result",
          "data": {
            "text/plain": [
              "array([False, False,  True, False, False, False])"
            ]
          },
          "metadata": {},
          "execution_count": 112
        }
      ]
    },
    {
      "cell_type": "code",
      "source": [
        "#Student 2 scored 50 or less twice in a row"
      ],
      "metadata": {
        "id": "fttV6DBps1Yu"
      },
      "execution_count": null,
      "outputs": []
    },
    {
      "cell_type": "code",
      "source": [
        "# np.unique()\n",
        " #.unique() returns the unique elements of an array.\n",
        "np.unique(scores) #Only the unique exam scores are returned without duplicates"
      ],
      "metadata": {
        "colab": {
          "base_uri": "https://localhost:8080/"
        },
        "id": "3LzXbje5tHBc",
        "outputId": "b417589f-be7e-40c7-e1ea-94025a86c493"
      },
      "execution_count": 114,
      "outputs": [
        {
          "output_type": "execute_result",
          "data": {
            "text/plain": [
              "array([42, 52, 55, 59, 60, 65, 66, 68, 70, 72, 75, 76, 77, 78, 80, 81, 82,\n",
              "       85, 86, 88, 89, 90, 91, 92, 93, 94, 95, 96])"
            ]
          },
          "metadata": {},
          "execution_count": 114
        }
      ]
    },
    {
      "cell_type": "code",
      "source": [
        "#Broadcasting\n",
        "#The term \"broadcasting\" describes how numpy treats arrays with different shapes during arithmetic\n",
        "#operations. The array with the fewer axes is considered a smaller array, and the other one is a larger array.\n",
        "#numpy expands the domain of operations over arrays by adjusting the shape of the smaller array to that\n",
        "#of the larger array or reshaping both arrays to the level of operation-compatible."
      ],
      "metadata": {
        "id": "ywQrtGOFtXOO"
      },
      "execution_count": null,
      "outputs": []
    },
    {
      "cell_type": "code",
      "source": [
        "A = np.arange(3)\n",
        "A"
      ],
      "metadata": {
        "colab": {
          "base_uri": "https://localhost:8080/"
        },
        "id": "F3XZK4TRuRSa",
        "outputId": "83152402-25e3-4d0d-ce6f-eb76a0e63c75"
      },
      "execution_count": 116,
      "outputs": [
        {
          "output_type": "execute_result",
          "data": {
            "text/plain": [
              "array([0, 1, 2])"
            ]
          },
          "metadata": {},
          "execution_count": 116
        }
      ]
    },
    {
      "cell_type": "markdown",
      "source": [],
      "metadata": {
        "id": "T6FxL3psyz_W"
      }
    },
    {
      "cell_type": "code",
      "source": [
        "B = A + 5\n",
        "B"
      ],
      "metadata": {
        "colab": {
          "base_uri": "https://localhost:8080/"
        },
        "id": "PHhxgcUdu9Y1",
        "outputId": "95233cc6-3d8c-4f3d-dabe-2c2991a07b40"
      },
      "execution_count": 118,
      "outputs": [
        {
          "output_type": "execute_result",
          "data": {
            "text/plain": [
              "array([5, 6, 7])"
            ]
          },
          "metadata": {},
          "execution_count": 118
        }
      ]
    },
    {
      "cell_type": "code",
      "source": [
        "C = np.arange(3).reshape((3,1))\n",
        "C"
      ],
      "metadata": {
        "colab": {
          "base_uri": "https://localhost:8080/"
        },
        "id": "ENXqhoQMy10Q",
        "outputId": "1fd4a3f0-9801-4015-ffa7-145b08c2ebe9"
      },
      "execution_count": 121,
      "outputs": [
        {
          "output_type": "execute_result",
          "data": {
            "text/plain": [
              "array([[0],\n",
              "       [1],\n",
              "       [2]])"
            ]
          },
          "metadata": {},
          "execution_count": 121
        }
      ]
    },
    {
      "cell_type": "code",
      "source": [
        "#Year Sea Air\n",
        "#Year1 4,290 6,070\n",
        "#Year2 4,425 6,278\n",
        "#Year3 4,577 6,350\n",
        "#Year4 4,617 8,295\n",
        "#Year5 4,491 10,780\n",
        "\n",
        "# Example1: Store above table in Numpy Array format, to variable cargo_n . (Store only integer values.)\n",
        "cargo_n_array = np.array([[4290, 6070],\n",
        "                   [4425, 6278],\n",
        "                   [4577, 6350],\n",
        "                   [4617, 8295],\n",
        "                   [4491, 10780]])"
      ],
      "metadata": {
        "id": "_3moJxuh3tzk"
      },
      "execution_count": 126,
      "outputs": []
    },
    {
      "cell_type": "code",
      "source": [
        "#Exercise2. The unit of cargo_n_array is per 1000. Dividing by 1000, change the unit to one million.\n",
        "#(Hint: Broadcasting Rule 1)\n",
        "cargo_n_array2 = cargo_n_array/1000\n",
        "cargo_n_array2"
      ],
      "metadata": {
        "colab": {
          "base_uri": "https://localhost:8080/"
        },
        "id": "bh26bKFO5Xbf",
        "outputId": "458c1a9f-34d2-44a8-d0a2-de8dae21e5e1"
      },
      "execution_count": 129,
      "outputs": [
        {
          "output_type": "execute_result",
          "data": {
            "text/plain": [
              "array([[ 4.29 ,  6.07 ],\n",
              "       [ 4.425,  6.278],\n",
              "       [ 4.577,  6.35 ],\n",
              "       [ 4.617,  8.295],\n",
              "       [ 4.491, 10.78 ]])"
            ]
          },
          "metadata": {},
          "execution_count": 129
        }
      ]
    },
    {
      "cell_type": "code",
      "source": [
        "#Exercise3. Calculate the annual number of import/exports from cargo_n_array , then store it to cargo_yearly_sum . (Hint: Refer to .sum(axis=1) method.)\n",
        "cargo_yearly_sum = cargo_n_array[:,1].sum()\n",
        "cargo_yearly_sum"
      ],
      "metadata": {
        "colab": {
          "base_uri": "https://localhost:8080/"
        },
        "id": "5BeEsNXO6Zwe",
        "outputId": "3f1d2111-192e-4d57-e082-af4bc8281960"
      },
      "execution_count": 135,
      "outputs": [
        {
          "output_type": "execute_result",
          "data": {
            "text/plain": [
              "37773"
            ]
          },
          "metadata": {},
          "execution_count": 135
        }
      ]
    },
    {
      "cell_type": "code",
      "source": [
        "cargo_yearly_sum = cargo_n_array.sum(axis = 1)\n",
        "cargo_yearly_sum"
      ],
      "metadata": {
        "colab": {
          "base_uri": "https://localhost:8080/"
        },
        "id": "shy2kM_uCbMv",
        "outputId": "15da2f48-3034-4490-841e-2ea816c4bd10"
      },
      "execution_count": 137,
      "outputs": [
        {
          "output_type": "execute_result",
          "data": {
            "text/plain": [
              "array([10360, 10703, 10927, 12912, 15271])"
            ]
          },
          "metadata": {},
          "execution_count": 137
        }
      ]
    },
    {
      "cell_type": "code",
      "source": [
        "cargo_yearly_sum.reshape(5,1) / cargo_yearly_sum.reshape(1,5)"
      ],
      "metadata": {
        "colab": {
          "base_uri": "https://localhost:8080/"
        },
        "id": "J49XuWo0GxKp",
        "outputId": "e7c60de3-13d2-45f9-f58e-329c46c2e509"
      },
      "execution_count": 138,
      "outputs": [
        {
          "output_type": "execute_result",
          "data": {
            "text/plain": [
              "array([[1.        , 0.96795291, 0.94811019, 0.8023544 , 0.67841006],\n",
              "       [1.03310811, 1.        , 0.97950032, 0.82891884, 0.70087093],\n",
              "       [1.05472973, 1.02092871, 1.        , 0.84626704, 0.71553926],\n",
              "       [1.24633205, 1.20639073, 1.18166011, 1.        , 0.8455242 ],\n",
              "       [1.47403475, 1.42679623, 1.39754736, 1.18269827, 1.        ]])"
            ]
          },
          "metadata": {},
          "execution_count": 138
        }
      ]
    }
  ]
}