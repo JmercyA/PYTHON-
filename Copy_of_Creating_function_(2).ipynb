{
  "cells": [
    {
      "cell_type": "markdown",
      "metadata": {
        "id": "view-in-github",
        "colab_type": "text"
      },
      "source": [
        "<a href=\"https://colab.research.google.com/github/JmercyA/PYTHON-/blob/main/Copy_of_Creating_function_(2).ipynb\" target=\"_parent\"><img src=\"https://colab.research.google.com/assets/colab-badge.svg\" alt=\"Open In Colab\"/></a>"
      ]
    },
    {
      "cell_type": "markdown",
      "id": "aa58b1e5",
      "metadata": {
        "id": "aa58b1e5"
      },
      "source": [
        "# Normal function\n",
        "Qn1. Function in Python with examples\n",
        "\n",
        "A function is a block of codes that performs a specific task when it is called,\n",
        "and functions are reusable. which means you can write a function once and use it as many times as you want."
      ]
    },
    {
      "cell_type": "code",
      "execution_count": null,
      "id": "66e94a50",
      "metadata": {
        "colab": {
          "base_uri": "https://localhost:8080/"
        },
        "id": "66e94a50",
        "outputId": "dcccac4f-2ade-4837-8bb5-103d0243376e"
      },
      "outputs": [
        {
          "output_type": "stream",
          "name": "stdout",
          "text": [
            "12\n"
          ]
        }
      ],
      "source": [
        "#Normal function\n",
        "def addTwo(a,b): # def is keyword. #addTwo is name of the function. # a,b are parameters. followed by the function body\n",
        "    c = a + b\n",
        "    return c # return is return statment.\n",
        "print(addTwo(5,7)) #output. # addTwo is calling a function. # 5,7 are arguments"
      ]
    },
    {
      "cell_type": "code",
      "source": [
        "addTwo(11,12)+10"
      ],
      "metadata": {
        "colab": {
          "base_uri": "https://localhost:8080/"
        },
        "id": "mNT6mGipt5kq",
        "outputId": "20b9a003-1274-436a-e0ec-e0c25de1e9d7"
      },
      "id": "mNT6mGipt5kq",
      "execution_count": null,
      "outputs": [
        {
          "output_type": "execute_result",
          "data": {
            "text/plain": [
              "33"
            ]
          },
          "metadata": {},
          "execution_count": 9
        }
      ]
    },
    {
      "cell_type": "markdown",
      "source": [],
      "metadata": {
        "id": "k53OccZt44ab"
      },
      "id": "k53OccZt44ab"
    },
    {
      "cell_type": "markdown",
      "id": "6eac1ad5",
      "metadata": {
        "id": "6eac1ad5"
      },
      "source": [
        "# Lambda Function\n",
        "\n",
        "python lambda function is a small anonymous function without a name. it can take any number of argument but only have one expression\n",
        "\n",
        "Key points:\n",
        "1. No statements: Unlike regular functions defined with def, lambda functions cannot contain statements like **if**, **for**, **while**, or **return**.\n",
        "2. Implicit return: The result of the expression is automatically returned. You don't need to explicitly write a return statement.\n",
        "3. Simple calculations: Lambda functions are best suited for short, concise calculations. For more complex logic, regular functions are often preferred.\n",
        "\n",
        "\n",
        "When to use lambda functions:\n",
        "* Short, simple calculations\n",
        "* Inline function definitions (e.g., with map, filter, sorted)\n",
        "* Creating function objects on the fly"
      ]
    },
    {
      "cell_type": "code",
      "source": [
        "# Regular function\n",
        "def add_numbers(x, y):\n",
        "  return x + y\n",
        "\n",
        "# Lambda function equivalent\n",
        "add_numbers_lambda = lambda x, y: x + y"
      ],
      "metadata": {
        "id": "LTevLUub5bWi"
      },
      "id": "LTevLUub5bWi",
      "execution_count": null,
      "outputs": []
    },
    {
      "cell_type": "code",
      "execution_count": null,
      "id": "749d6052",
      "metadata": {
        "id": "749d6052",
        "outputId": "33268bc1-c89d-43f4-bdb5-dbab753dd1ca"
      },
      "outputs": [
        {
          "name": "stdout",
          "output_type": "stream",
          "text": [
            "12\n"
          ]
        }
      ],
      "source": [
        "addTwo =lambda a,b:a+b # addTwo is variable used as function name. a,b are parameters, a+b is a return statement\n",
        "print(addTwo(5,7))# addTwo is calling the function, 5,7 are the arguments."
      ]
    },
    {
      "cell_type": "code",
      "execution_count": null,
      "id": "7a6e315d",
      "metadata": {
        "id": "7a6e315d",
        "outputId": "3bf78b5a-71d6-415a-bcbc-0f614d8ccfbb"
      },
      "outputs": [
        {
          "name": "stdout",
          "output_type": "stream",
          "text": [
            "9\n"
          ]
        }
      ],
      "source": [
        "squarenum = lambda a : a**2\n",
        "print(squarenum(3))"
      ]
    },
    {
      "cell_type": "markdown",
      "source": [
        "**a. Using map with Lambda Functions**\n",
        "\n",
        "The map function in Python applies a given function to each item of an iterable (like a list, tuple, etc.) and returns an iterator of the results.\n",
        "\n",
        "Lambda functions, being concise, are often paired with map for quick transformations."
      ],
      "metadata": {
        "id": "ysZ00Seo571k"
      },
      "id": "ysZ00Seo571k"
    },
    {
      "cell_type": "code",
      "source": [
        "#how to use map with lambda method\n",
        "numbers = [1, 2, 3, 4, 5]\n",
        "\n",
        "# Using a lambda function with map to double each number\n",
        "doubled_numbers = map(lambda x: x * 2, numbers)\n",
        "\n",
        "# Convert the iterator to a list for printing\n",
        "print(list(doubled_numbers))  # Output: [2, 4, 6, 8, 10]\n",
        "\n"
      ],
      "metadata": {
        "id": "-jau6oTY38kE"
      },
      "id": "-jau6oTY38kE",
      "execution_count": null,
      "outputs": []
    },
    {
      "cell_type": "code",
      "source": [
        "#updating the list\n",
        "names = [\"alice\", \"bob\", \"charlie\"]\n",
        "\n",
        "# Using a lambda function with map to convert names to uppercase\n",
        "uppercase_names = map(lambda name: name.upper(), names)\n",
        "\n",
        "print(list(uppercase_names))  # Output: ['ALICE', 'BOB', 'CHARLIE']"
      ],
      "metadata": {
        "id": "18IHbW3w6Go_"
      },
      "id": "18IHbW3w6Go_",
      "execution_count": null,
      "outputs": []
    },
    {
      "cell_type": "code",
      "source": [
        "#lambda function on a dict\n",
        "data = [\n",
        "    {\"name\": \"Alice\", \"age\": 30},\n",
        "    {\"name\": \"Bob\", \"age\": 25},\n",
        "    {\"name\": \"Charlie\", \"age\": 35}\n",
        "]\n",
        "\n",
        "# Extracting names using a lambda function and map\n",
        "names = map(lambda person: person['name'], data)\n",
        "print(list(names))  # Output: ['Alice', 'Bob', 'Charlie']"
      ],
      "metadata": {
        "colab": {
          "base_uri": "https://localhost:8080/"
        },
        "id": "c1sI4zY26RtA",
        "outputId": "4aef0aa8-fa1a-43f5-c408-81a2cd56d2fb"
      },
      "id": "c1sI4zY26RtA",
      "execution_count": null,
      "outputs": [
        {
          "output_type": "stream",
          "name": "stdout",
          "text": [
            "['Alice', 'Bob', 'Charlie']\n"
          ]
        }
      ]
    },
    {
      "cell_type": "markdown",
      "source": [
        "**b. Using Lambda with Filter**\n",
        "\n",
        "filter() is a built-in Python function that creates a new iterator from the elements of an iterable for which a given function returns True.\n",
        "\n",
        "Lambda functions are anonymous functions that can be used as arguments to other functions, including filter.\n",
        "\n",
        "\n",
        "How it works:\n",
        "1. Define a lambda function that returns a boolean value based on a condition.\n",
        "2. Pass this lambda function to filter() along with an iterable.\n",
        "3. filter() applies the lambda function to each element of the iterable.\n",
        "4. If the lambda function returns True, the element is included in the new iterator."
      ],
      "metadata": {
        "id": "j6OeX9E-7LV4"
      },
      "id": "j6OeX9E-7LV4"
    },
    {
      "cell_type": "code",
      "source": [
        "#example 1\n",
        "numbers = [1, 2, 3, 4, 5, 6, 7, 8, 9, 10]\n",
        "\n",
        "# Filter even numbers using lambda and filter\n",
        "even_numbers = filter(lambda x: x % 2 == 0, numbers)\n",
        "\n",
        "print(list(even_numbers))  # Output: [2, 4, 6, 8, 10]"
      ],
      "metadata": {
        "id": "u8Q-RAM36uzG"
      },
      "id": "u8Q-RAM36uzG",
      "execution_count": null,
      "outputs": []
    },
    {
      "cell_type": "code",
      "source": [
        "#example 2\n",
        "names = [\"Alice\", \"Bob\", \"Charlie\", \"David\", \"Eve\"]\n",
        "\n",
        "# Filter names starting with 'A'\n",
        "names_starting_with_a = filter(lambda name: name.startswith('A'), names)\n",
        "\n",
        "print(list(names_starting_with_a))  # Output: ['Alice']"
      ],
      "metadata": {
        "id": "nYS3PbEQ8EHF"
      },
      "id": "nYS3PbEQ8EHF",
      "execution_count": null,
      "outputs": []
    },
    {
      "cell_type": "markdown",
      "source": [
        "**c. Using Lambda with Sorted**\n",
        "\n",
        "Python's sorted() function is used to sort iterables. You can customize the sorting behavior by providing a key function. Lambda functions are perfect for creating simple key functions on the fly."
      ],
      "metadata": {
        "id": "mrRWN0bU8OVm"
      },
      "id": "mrRWN0bU8OVm"
    },
    {
      "cell_type": "code",
      "source": [
        "#Sorting by a Specific Attribute\n",
        "\n",
        "people = [\n",
        "    {'name': 'Alice', 'age': 30},\n",
        "    {'name': 'Bob', 'age': 25},\n",
        "    {'name': 'Charlie', 'age': 35}\n",
        "]\n",
        "\n",
        "sorted_people = sorted(people, key=lambda x: x['age'])\n",
        "print(sorted_people)"
      ],
      "metadata": {
        "colab": {
          "base_uri": "https://localhost:8080/"
        },
        "id": "LVVzVxRl8ydt",
        "outputId": "6cb9a62c-e206-4353-d2a8-2b1da97c15b1"
      },
      "id": "LVVzVxRl8ydt",
      "execution_count": null,
      "outputs": [
        {
          "output_type": "stream",
          "name": "stdout",
          "text": [
            "[{'name': 'Bob', 'age': 25}, {'name': 'Alice', 'age': 30}, {'name': 'Charlie', 'age': 35}]\n"
          ]
        }
      ]
    },
    {
      "cell_type": "code",
      "source": [
        "#reverse sorting\n",
        "sorted_people_desc = sorted(people, key=lambda x: x['age'], reverse=True)\n",
        "print(sorted_people_desc)"
      ],
      "metadata": {
        "colab": {
          "base_uri": "https://localhost:8080/"
        },
        "id": "5fK5SUM29FXY",
        "outputId": "79be5154-5d3e-4c7e-af32-8259f128b34f"
      },
      "id": "5fK5SUM29FXY",
      "execution_count": null,
      "outputs": [
        {
          "output_type": "stream",
          "name": "stdout",
          "text": [
            "[{'name': 'Charlie', 'age': 35}, {'name': 'Alice', 'age': 30}, {'name': 'Bob', 'age': 25}]\n"
          ]
        }
      ]
    },
    {
      "cell_type": "code",
      "source": [
        "#Sorting by Multiple Attributes\n",
        "people = [\n",
        "    {'name': 'Alice', 'age': 30, 'city': 'New York'},\n",
        "    {'name': 'Bob', 'age': 25, 'city': 'Los Angeles'},\n",
        "    {'name': 'Charlie', 'age': 35, 'city': 'New York'}\n",
        "]\n",
        "\n",
        "sorted_people = sorted(people, key=lambda x: (x['city'], x['age']))\n",
        "print(sorted_people)"
      ],
      "metadata": {
        "colab": {
          "base_uri": "https://localhost:8080/"
        },
        "id": "t1D-qTUy9P2l",
        "outputId": "2a3bba12-8a87-4b8a-8baf-6122d1e179f0"
      },
      "id": "t1D-qTUy9P2l",
      "execution_count": null,
      "outputs": [
        {
          "output_type": "stream",
          "name": "stdout",
          "text": [
            "[{'name': 'Bob', 'age': 25, 'city': 'Los Angeles'}, {'name': 'Alice', 'age': 30, 'city': 'New York'}, {'name': 'Charlie', 'age': 35, 'city': 'New York'}]\n"
          ]
        }
      ]
    },
    {
      "cell_type": "markdown",
      "source": [
        "ObservatThis will first sort by city, and then within each city, by age."
      ],
      "metadata": {
        "id": "CD4tTU4A9lrD"
      },
      "id": "CD4tTU4A9lrD"
    },
    {
      "cell_type": "code",
      "source": [],
      "metadata": {
        "id": "epSwdkuc9ebV"
      },
      "id": "epSwdkuc9ebV",
      "execution_count": null,
      "outputs": []
    },
    {
      "cell_type": "markdown",
      "id": "eafbc94f",
      "metadata": {
        "id": "eafbc94f"
      },
      "source": [
        "# Qn2. Find even numbers from the list\n",
        "\n",
        "numbers = [3,4,2,1,5,6,9,8,10]"
      ]
    },
    {
      "cell_type": "code",
      "execution_count": 4,
      "id": "5457e883",
      "metadata": {
        "colab": {
          "base_uri": "https://localhost:8080/"
        },
        "id": "5457e883",
        "outputId": "4344e10d-ba09-4301-caa0-957b76820b41"
      },
      "outputs": [
        {
          "output_type": "stream",
          "name": "stdout",
          "text": [
            "Even numbers:[4, 2, 6, 8, 10]\n"
          ]
        }
      ],
      "source": [
        "#long way/using  for loops\n",
        "numbers = [3,4,2,1,5,6,9,8,10]\n",
        "evens = []\n",
        "for i in numbers:\n",
        "    if i%2 ==0:\n",
        "        evens.append(i)\n",
        "print(f\"Even numbers:{evens}\")\n"
      ]
    },
    {
      "cell_type": "code",
      "execution_count": null,
      "id": "c6fb1d89",
      "metadata": {
        "colab": {
          "base_uri": "https://localhost:8080/"
        },
        "id": "c6fb1d89",
        "outputId": "a856a29d-f577-4ee0-8893-ac6517897954"
      },
      "outputs": [
        {
          "output_type": "stream",
          "name": "stdout",
          "text": [
            "Even numbers: [4, 2, 6, 8, 10]\n"
          ]
        }
      ],
      "source": [
        "#Another method using list comprehesion\n",
        "even_numbers = [num for num in numbers if num % 2 == 0]\n",
        "print(\"Even numbers:\", even_numbers)"
      ]
    },
    {
      "cell_type": "code",
      "execution_count": null,
      "id": "ba21a558",
      "metadata": {
        "colab": {
          "base_uri": "https://localhost:8080/"
        },
        "id": "ba21a558",
        "outputId": "9197357b-eee9-4373-f6d3-92344350b6d4"
      },
      "outputs": [
        {
          "output_type": "stream",
          "name": "stdout",
          "text": [
            "Even numbers: [4, 2, 6, 8, 10]\n"
          ]
        }
      ],
      "source": [
        "#best code Using a function\n",
        "def even_nums(a):\n",
        "    return a%2 == 0\n",
        "\n",
        "numbers = [3,4,2,1,5,6,9,8,10]\n",
        "evens = filter(even_nums, numbers)\n",
        "print(\"Even numbers:\",list(evens))"
      ]
    },
    {
      "cell_type": "code",
      "source": [
        "#use lamba function\n",
        "even_numbers = list(filter(lambda num: num % 2 == 0, numbers))\n",
        "print(\"Even numbers:\", even_numbers)"
      ],
      "metadata": {
        "colab": {
          "base_uri": "https://localhost:8080/"
        },
        "id": "tV2Nj53Cuy9l",
        "outputId": "e09f5a4a-1e09-4dff-e80a-20f51cb0bb53"
      },
      "id": "tV2Nj53Cuy9l",
      "execution_count": null,
      "outputs": [
        {
          "output_type": "stream",
          "name": "stdout",
          "text": [
            "Even numbers: [4, 2, 6, 8, 10]\n"
          ]
        }
      ]
    }
  ],
  "metadata": {
    "kernelspec": {
      "display_name": "Python 3 (ipykernel)",
      "language": "python",
      "name": "python3"
    },
    "language_info": {
      "codemirror_mode": {
        "name": "ipython",
        "version": 3
      },
      "file_extension": ".py",
      "mimetype": "text/x-python",
      "name": "python",
      "nbconvert_exporter": "python",
      "pygments_lexer": "ipython3",
      "version": "3.11.5"
    },
    "toc": {
      "base_numbering": 1,
      "nav_menu": {},
      "number_sections": true,
      "sideBar": true,
      "skip_h1_title": false,
      "title_cell": "Table of Contents",
      "title_sidebar": "Contents",
      "toc_cell": false,
      "toc_position": {},
      "toc_section_display": true,
      "toc_window_display": false
    },
    "colab": {
      "provenance": [],
      "include_colab_link": true
    }
  },
  "nbformat": 4,
  "nbformat_minor": 5
}