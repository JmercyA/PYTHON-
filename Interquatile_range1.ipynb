{
  "nbformat": 4,
  "nbformat_minor": 0,
  "metadata": {
    "colab": {
      "provenance": [],
      "authorship_tag": "ABX9TyONCH2fwlg0thR/Kcq08FDd",
      "include_colab_link": true
    },
    "kernelspec": {
      "name": "python3",
      "display_name": "Python 3"
    },
    "language_info": {
      "name": "python"
    }
  },
  "cells": [
    {
      "cell_type": "markdown",
      "metadata": {
        "id": "view-in-github",
        "colab_type": "text"
      },
      "source": [
        "<a href=\"https://colab.research.google.com/github/JmercyA/PYTHON-/blob/main/Interquatile_range1.ipynb\" target=\"_parent\"><img src=\"https://colab.research.google.com/assets/colab-badge.svg\" alt=\"Open In Colab\"/></a>"
      ]
    },
    {
      "cell_type": "code",
      "execution_count": null,
      "metadata": {
        "id": "z_4eRkb5FefE"
      },
      "outputs": [],
      "source": [
        "#Calculating interquatile range of a data set"
      ]
    },
    {
      "cell_type": "code",
      "source": [
        "# define a data set\n",
        "x = [5,3,8,9,7,6,1,2,4,87,56,93,42,30,22,16]\n",
        "# arrange data set in ascending order\n",
        "x = sorted(x)\n",
        "print(x)"
      ],
      "metadata": {
        "colab": {
          "base_uri": "https://localhost:8080/"
        },
        "id": "vzAVrMX3Fm_Y",
        "outputId": "5b9c7728-9b12-4814-ad3b-2a752bd84faa"
      },
      "execution_count": 1,
      "outputs": [
        {
          "output_type": "stream",
          "name": "stdout",
          "text": [
            "[1, 2, 3, 4, 5, 6, 7, 8, 9, 16, 22, 30, 42, 56, 87, 93]\n"
          ]
        }
      ]
    },
    {
      "cell_type": "code",
      "source": [
        "# calculate the distance between the last and the first element\n",
        "distance = len(x) - 1\n",
        "print(distance)"
      ],
      "metadata": {
        "colab": {
          "base_uri": "https://localhost:8080/"
        },
        "id": "zXz3bqb9GmhD",
        "outputId": "b65b38fe-e449-4773-fb3d-e77abceafaa8"
      },
      "execution_count": 3,
      "outputs": [
        {
          "output_type": "stream",
          "name": "stdout",
          "text": [
            "15\n"
          ]
        }
      ]
    },
    {
      "cell_type": "code",
      "source": [
        "#multiply distant by percentile in % form to get the index of the percentile\n",
        "index_p25 = 0.25 * distance\n",
        "index_p25"
      ],
      "metadata": {
        "colab": {
          "base_uri": "https://localhost:8080/"
        },
        "id": "t2y94jVIKz0K",
        "outputId": "18e31c4a-9156-45b9-92ff-6781ea44641e"
      },
      "execution_count": 7,
      "outputs": [
        {
          "output_type": "execute_result",
          "data": {
            "text/plain": [
              "3.75"
            ]
          },
          "metadata": {},
          "execution_count": 7
        }
      ]
    },
    {
      "cell_type": "code",
      "source": [
        "index_p75 = 0.75 * distance\n",
        "index_p75"
      ],
      "metadata": {
        "colab": {
          "base_uri": "https://localhost:8080/"
        },
        "id": "CNtbRG4nLRFg",
        "outputId": "90ee33d4-6815-4278-83c8-3c56d1ccae44"
      },
      "execution_count": 8,
      "outputs": [
        {
          "output_type": "execute_result",
          "data": {
            "text/plain": [
              "11.25"
            ]
          },
          "metadata": {},
          "execution_count": 8
        }
      ]
    },
    {
      "cell_type": "code",
      "source": [
        "# Use the indecies to determine the the 25th and 75th percentiles"
      ],
      "metadata": {
        "id": "0xFhvna5LbaO"
      },
      "execution_count": null,
      "outputs": []
    },
    {
      "cell_type": "code",
      "source": [
        "#25th percentile\n",
        "p25 = x[int(index_p25)]\n",
        "p25"
      ],
      "metadata": {
        "colab": {
          "base_uri": "https://localhost:8080/"
        },
        "id": "Uj_EvoNJMhOA",
        "outputId": "5b3bcd89-17f5-4b1a-db58-99860dcd3b3e"
      },
      "execution_count": 10,
      "outputs": [
        {
          "output_type": "execute_result",
          "data": {
            "text/plain": [
              "4"
            ]
          },
          "metadata": {},
          "execution_count": 10
        }
      ]
    },
    {
      "cell_type": "code",
      "source": [
        "#75th percentile\n",
        "p75 = x[int(index_p75)]\n",
        "p75"
      ],
      "metadata": {
        "colab": {
          "base_uri": "https://localhost:8080/"
        },
        "id": "ZBtjVZVCNQZT",
        "outputId": "92506a4c-94c0-454d-abc2-73c77a311d0e"
      },
      "execution_count": 13,
      "outputs": [
        {
          "output_type": "execute_result",
          "data": {
            "text/plain": [
              "30"
            ]
          },
          "metadata": {},
          "execution_count": 13
        }
      ]
    },
    {
      "cell_type": "code",
      "source": [
        "IQR = p75 - p25\n",
        "IQR"
      ],
      "metadata": {
        "colab": {
          "base_uri": "https://localhost:8080/"
        },
        "id": "NO5QZjEmN5v9",
        "outputId": "c3da03ae-de11-4b17-de1c-7b052bd95bce"
      },
      "execution_count": 15,
      "outputs": [
        {
          "output_type": "execute_result",
          "data": {
            "text/plain": [
              "26"
            ]
          },
          "metadata": {},
          "execution_count": 15
        }
      ]
    },
    {
      "cell_type": "code",
      "source": [
        "# Calculating IQR using Numpy\n",
        "import numpy as np\n",
        "x = [1, 2, 3, 4, 5, 6, 7, 8, 9, 16, 22, 30, 42, 56, 87, 93]\n",
        "np.percentile(x,75) - np.percentile(x,25)"
      ],
      "metadata": {
        "colab": {
          "base_uri": "https://localhost:8080/"
        },
        "id": "XYntOiW_OcVC",
        "outputId": "059a9348-a84a-4d4c-ce30-7f5c930bd4e4"
      },
      "execution_count": 17,
      "outputs": [
        {
          "output_type": "execute_result",
          "data": {
            "text/plain": [
              "28.25"
            ]
          },
          "metadata": {},
          "execution_count": 17
        }
      ]
    },
    {
      "cell_type": "code",
      "source": [
        "import matplotlib.pyplot as plt\n",
        "%matplotlib inline\n",
        "\n",
        "plt.style.use('ggplot') # for viewing a grid on plot\n",
        "x = [54, 54, 54, 55, 56, 57, 57, 58, 58, 60, 81]\n",
        "plt.boxplot(x)\n",
        "plt.title (\"Retirement Age Box Plot\")\n",
        "plt.show()"
      ],
      "metadata": {
        "colab": {
          "base_uri": "https://localhost:8080/",
          "height": 453
        },
        "id": "oNbsWFHHQfzV",
        "outputId": "ca32846e-c352-4587-ca97-192da8beecc3"
      },
      "execution_count": 18,
      "outputs": [
        {
          "output_type": "display_data",
          "data": {
            "text/plain": [
              "<Figure size 640x480 with 1 Axes>"
            ],
            "image/png": "[encoded data removed]"
          },
          "metadata": {}
        }
      ]
    }
  ]
}